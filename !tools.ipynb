{
 "cells": [
  {
   "cell_type": "code",
   "execution_count": null,
   "id": "f7463209",
   "metadata": {},
   "outputs": [],
   "source": [
    "import pandas as pd\n",
    "import numpy as np"
   ]
  },
  {
   "cell_type": "markdown",
   "id": "090af558",
   "metadata": {},
   "source": [
    "Вывести топ-3 платежные системы"
   ]
  },
  {
   "cell_type": "code",
   "execution_count": null,
   "id": "ba3e1340",
   "metadata": {},
   "outputs": [],
   "source": [
    "df.groupby('payment_system', as_index=False).aggregate({'money1': 'sum'}).sort_values('money1', ascending=False)\n",
    "top3_paymentsystem.iloc[0:3]"
   ]
  },
  {
   "cell_type": "code",
   "execution_count": null,
   "id": "411a1c68",
   "metadata": {},
   "outputs": [],
   "source": [
    "#6.\tСоздать датафрейм data_analysts с данными только где job_title=’Data_Analyst’\n",
    "data_analysts = df.query('job_title == \"Data Analyst\"')\n",
    "data_analysts.head(3)"
   ]
  },
  {
   "cell_type": "code",
   "execution_count": null,
   "id": "f63ed5fa",
   "metadata": {},
   "outputs": [],
   "source": [
    "#7.\tПосмотреть, в компаниях каких стран дата-аналитики в среднем зарабатывают больше всего \n",
    "#(аналогичную группировку для размера компаний)\n",
    "da_country =data_analysts.groupby('company_location', as_index=False).agg({'salary_in_usd': 'mean'}).rename(columns={'salary_in_usd': 'salary_in_usd_avg'})\\\n",
    ".sort_values(['salary_in_usd_avg'], ascending=[False])\n",
    "da_country"
   ]
  },
  {
   "cell_type": "code",
   "execution_count": null,
   "id": "6c1a8ca9",
   "metadata": {},
   "outputs": [],
   "source": [
    "#9.\tСравните среднюю зарплату дата-аналитика и для других топ-5 (по распространенности) профессий (из пункта 5) \n",
    "#*сравнивайте средние зарплаты только специалистов, соответствующих experience_level!\n",
    "da_top5 = df.query('job_title == \"Data Analyst\" or job_title == \"Data Scientist\" or job_title == \"Data Engineer\" or job_title == \"Machine Learning Engineer\" or job_title == \"Research Scientist\"')\n",
    "pd.pivot_table(da_top5, index='job_title', values='salary_in_usd', aggfunc='mean',fill_value=0, columns='experience_level', margins=False)"
   ]
  },
  {
   "cell_type": "code",
   "execution_count": null,
   "id": "2ae3ab0e",
   "metadata": {},
   "outputs": [],
   "source": [
    "#(*для желающих: в зависимости от level: SE и EX – 10%, EN и MI – 5%).\n",
    "data_analysts['bonus2']=data_analysts.salary_in_usd*np.where(data_analysts.experience_level =='SE', 0.1, np.where(data_analysts.experience_level =='EX', 0.1, 0.05))\n",
    "data_analysts"
   ]
  },
  {
   "cell_type": "code",
   "execution_count": null,
   "id": "c92a2cb8",
   "metadata": {},
   "outputs": [],
   "source": [
    "modify"
   ]
  },
  {
   "cell_type": "code",
   "execution_count": null,
   "id": "360f2066",
   "metadata": {},
   "outputs": [],
   "source": []
  }
 ],
 "metadata": {
  "kernelspec": {
   "display_name": "Python 3 (ipykernel)",
   "language": "python",
   "name": "python3"
  },
  "language_info": {
   "codemirror_mode": {
    "name": "ipython",
    "version": 3
   },
   "file_extension": ".py",
   "mimetype": "text/x-python",
   "name": "python",
   "nbconvert_exporter": "python",
   "pygments_lexer": "ipython3",
   "version": "3.9.13"
  }
 },
 "nbformat": 4,
 "nbformat_minor": 5
}
